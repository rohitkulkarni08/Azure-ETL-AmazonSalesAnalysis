{
 "cells": [
  {
   "cell_type": "markdown",
   "metadata": {
    "application/vnd.databricks.v1+cell": {
     "cellMetadata": {
      "byteLimit": 2048000,
      "rowLimit": 10000
     },
     "inputWidgets": {},
     "nuid": "f949fe03-a250-49db-903d-9e48b3e175f5",
     "showTitle": false,
     "title": ""
    }
   },
   "source": [
    "##Loading necessary libraries and Configuring Spark to ADLS Gen-2"
   ]
  },
  {
   "cell_type": "code",
   "execution_count": 0,
   "metadata": {
    "application/vnd.databricks.v1+cell": {
     "cellMetadata": {
      "byteLimit": 2048000,
      "rowLimit": 10000
     },
     "inputWidgets": {},
     "nuid": "ab0b74dd-982c-43c9-8ebc-35fd67516cb8",
     "showTitle": false,
     "title": ""
    }
   },
   "outputs": [
    {
     "output_type": "display_data",
     "data": {
      "text/html": [
       "<style scoped>\n",
       "  .ansiout {\n",
       "    display: block;\n",
       "    unicode-bidi: embed;\n",
       "    white-space: pre-wrap;\n",
       "    word-wrap: break-word;\n",
       "    word-break: break-all;\n",
       "    font-family: \"Menlo\", \"Monaco\", \"Consolas\", \"Ubuntu Mono\", \"Source Code Pro\", monospace;\n",
       "    font-size: 13px;\n",
       "    color: #555;\n",
       "    margin-left: 4px;\n",
       "    line-height: 19px;\n",
       "  }\n",
       "</style>\n",
       "<div class=\"ansiout\"></div>"
      ]
     },
     "metadata": {
      "application/vnd.databricks.v1+output": {
       "addedWidgets": {},
       "arguments": {},
       "data": "<div class=\"ansiout\"></div>",
       "datasetInfos": [],
       "metadata": {},
       "removedWidgets": [],
       "type": "html"
      }
     },
     "output_type": "display_data"
    }
   ],
   "source": [
    "import pandas as pd\n",
    "import numpy as np\n",
    "from pyspark.sql.types import *\n",
    "import pyspark.sql.functions as F\n",
    "\n",
    "spark.conf.set(\n",
    "    \"fs.azure.account.key.moviedatanalytics.dfs.core.windows.net\",\"xs8eaOJ+uzl3/n8bz4au+ieUyllqksTZvuvLBa+ybkV3/DQjfPKN/75c/reepUbu/QMY2vM5HgUh+ASt7RUWaw==\")"
   ]
  },
  {
   "cell_type": "markdown",
   "metadata": {
    "application/vnd.databricks.v1+cell": {
     "cellMetadata": {
      "byteLimit": 2048000,
      "rowLimit": 10000
     },
     "inputWidgets": {},
     "nuid": "12d85059-dfac-4faf-8ef7-370821b19b39",
     "showTitle": false,
     "title": ""
    }
   },
   "source": [
    "##Creating Paths"
   ]
  },
  {
   "cell_type": "code",
   "execution_count": 0,
   "metadata": {
    "application/vnd.databricks.v1+cell": {
     "cellMetadata": {
      "byteLimit": 2048000,
      "rowLimit": 10000
     },
     "inputWidgets": {},
     "nuid": "615950c2-b46b-4a58-b516-ab8b6d825b91",
     "showTitle": false,
     "title": ""
    }
   },
   "outputs": [
    {
     "output_type": "display_data",
     "data": {
      "text/html": [
       "<style scoped>\n",
       "  .ansiout {\n",
       "    display: block;\n",
       "    unicode-bidi: embed;\n",
       "    white-space: pre-wrap;\n",
       "    word-wrap: break-word;\n",
       "    word-break: break-all;\n",
       "    font-family: \"Menlo\", \"Monaco\", \"Consolas\", \"Ubuntu Mono\", \"Source Code Pro\", monospace;\n",
       "    font-size: 13px;\n",
       "    color: #555;\n",
       "    margin-left: 4px;\n",
       "    line-height: 19px;\n",
       "  }\n",
       "</style>\n",
       "<div class=\"ansiout\"></div>"
      ]
     },
     "metadata": {
      "application/vnd.databricks.v1+output": {
       "addedWidgets": {},
       "arguments": {},
       "data": "<div class=\"ansiout\"></div>",
       "datasetInfos": [],
       "metadata": {},
       "removedWidgets": [],
       "type": "html"
      }
     },
     "output_type": "display_data"
    }
   ],
   "source": [
    "adls_source_path = 'abfss://amazonsalesanalyrics@moviedatanalytics.dfs.core.windows.net/'\n",
    "\n",
    "master_data_path = adls_source_path + 'master_data/'\n",
    "\n",
    "state_analysis_path = master_data_path + 'state_analysis/'\n",
    "category_analysis_path = master_data_path + 'category_analysis/'\n",
    "promotion_analysis_path = master_data_path + 'promotion_analysis/'\n",
    "cancellation_analysis_path = master_data_path + 'cancellation_analysis/'\n",
    "size_sales_amount_path = master_data_path + 'size_sales_amount/'\n",
    "size_sales_quantity_path = master_data_path + 'size_sales_quantity_analysis/'\n",
    "intl_only_path = master_data_path + 'intl_only_analysis/'"
   ]
  },
  {
   "cell_type": "markdown",
   "metadata": {
    "application/vnd.databricks.v1+cell": {
     "cellMetadata": {
      "byteLimit": 2048000,
      "rowLimit": 10000
     },
     "inputWidgets": {},
     "nuid": "a9b7c9ad-05e1-4c91-a597-ee16ad1d66d4",
     "showTitle": false,
     "title": ""
    }
   },
   "source": [
    "##Loading the processed Amazon India and Amazon Intl Sales Tables"
   ]
  },
  {
   "cell_type": "code",
   "execution_count": 0,
   "metadata": {
    "application/vnd.databricks.v1+cell": {
     "cellMetadata": {
      "byteLimit": 2048000,
      "rowLimit": 10000
     },
     "inputWidgets": {},
     "nuid": "715b16fe-61b2-443b-bac9-5d948719c236",
     "showTitle": false,
     "title": ""
    }
   },
   "outputs": [
    {
     "output_type": "display_data",
     "data": {
      "text/html": [
       "<style scoped>\n",
       "  .ansiout {\n",
       "    display: block;\n",
       "    unicode-bidi: embed;\n",
       "    white-space: pre-wrap;\n",
       "    word-wrap: break-word;\n",
       "    word-break: break-all;\n",
       "    font-family: \"Menlo\", \"Monaco\", \"Consolas\", \"Ubuntu Mono\", \"Source Code Pro\", monospace;\n",
       "    font-size: 13px;\n",
       "    color: #555;\n",
       "    margin-left: 4px;\n",
       "    line-height: 19px;\n",
       "  }\n",
       "</style>\n",
       "<div class=\"ansiout\"></div>"
      ]
     },
     "metadata": {
      "application/vnd.databricks.v1+output": {
       "addedWidgets": {},
       "arguments": {},
       "data": "<div class=\"ansiout\"></div>",
       "datasetInfos": [],
       "metadata": {},
       "removedWidgets": [],
       "type": "html"
      }
     },
     "output_type": "display_data"
    }
   ],
   "source": [
    "retail_india_l0 = spark.sql(\"select * from amazon_india_sales_analysis.retail_india_data_l0\")\n",
    "retail_intl_l0 = spark.sql(\"select * from amazon_india_sales_analysis.retail_intl_data_l0\")"
   ]
  },
  {
   "cell_type": "markdown",
   "metadata": {
    "application/vnd.databricks.v1+cell": {
     "cellMetadata": {
      "byteLimit": 2048000,
      "rowLimit": 10000
     },
     "inputWidgets": {},
     "nuid": "39b7498a-a9f7-43a8-88c5-59229c90b5c9",
     "showTitle": false,
     "title": ""
    }
   },
   "source": [
    "##Analysis-1: Statewise Analysis"
   ]
  },
  {
   "cell_type": "code",
   "execution_count": 0,
   "metadata": {
    "application/vnd.databricks.v1+cell": {
     "cellMetadata": {
      "byteLimit": 2048000,
      "rowLimit": 10000
     },
     "inputWidgets": {},
     "nuid": "e9301a15-2a38-4ff7-9e1a-bd8752819268",
     "showTitle": false,
     "title": ""
    }
   },
   "outputs": [
    {
     "output_type": "display_data",
     "data": {
      "text/html": [
       "<style scoped>\n",
       "  .table-result-container {\n",
       "    max-height: 300px;\n",
       "    overflow: auto;\n",
       "  }\n",
       "  table, th, td {\n",
       "    border: 1px solid black;\n",
       "    border-collapse: collapse;\n",
       "  }\n",
       "  th, td {\n",
       "    padding: 5px;\n",
       "  }\n",
       "  th {\n",
       "    text-align: left;\n",
       "  }\n",
       "</style><div class='table-result-container'><table class='table-result'><thead style='background-color: white'><tr><th>ship_state</th></tr></thead><tbody><tr><td>DADRA AND NAGAR</td></tr><tr><td>SIKKIM</td></tr><tr><td>delhi</td></tr><tr><td>MEGHALAYA</td></tr><tr><td>Odisha</td></tr><tr><td>WEST BENGAL</td></tr><tr><td>Punjab</td></tr><tr><td>GOA</td></tr><tr><td>CHHATTISGARH</td></tr><tr><td>RAJASTHAN</td></tr><tr><td>APO</td></tr><tr><td>null</td></tr><tr><td>goa</td></tr><tr><td>Manipur</td></tr><tr><td>punjab</td></tr><tr><td>TRIPURA</td></tr><tr><td>DELHI</td></tr><tr><td>Goa</td></tr><tr><td>HIMACHAL PRADESH</td></tr><tr><td>BIHAR</td></tr><tr><td>CHANDIGARH</td></tr><tr><td>KARNATAKA</td></tr><tr><td>JAMMU & KASHMIR</td></tr><tr><td>UTTAR PRADESH</td></tr><tr><td>PB</td></tr><tr><td>MANIPUR</td></tr><tr><td>MADHYA PRADESH</td></tr><tr><td>Arunachal Pradesh</td></tr><tr><td>Gujarat</td></tr><tr><td>ANDAMAN & NICOBAR </td></tr><tr><td>PUDUCHERRY</td></tr><tr><td>TAMIL NADU</td></tr><tr><td>MAHARASHTRA</td></tr><tr><td>Sikkim</td></tr><tr><td>Delhi</td></tr><tr><td>PUNJAB</td></tr><tr><td>Chandigarh</td></tr><tr><td>Pondicherry</td></tr><tr><td>NAGALAND</td></tr><tr><td>ARUNACHAL PRADESH</td></tr><tr><td>UTTARAKHAND</td></tr><tr><td>Rajasthan</td></tr><tr><td>HARYANA</td></tr><tr><td>MIZORAM</td></tr><tr><td>TELANGANA</td></tr><tr><td>New Delhi</td></tr><tr><td>RJ</td></tr><tr><td>ODISHA</td></tr><tr><td>LADAKH</td></tr><tr><td>ANDHRA PRADESH</td></tr><tr><td>KERALA</td></tr><tr><td>Bihar</td></tr><tr><td>AR</td></tr><tr><td>ASSAM</td></tr><tr><td>JHARKHAND</td></tr><tr><td>Nagaland</td></tr><tr><td>NL</td></tr><tr><td>rajsthan</td></tr><tr><td>Mizoram</td></tr><tr><td>bihar</td></tr><tr><td>LAKSHADWEEP</td></tr><tr><td>Arunachal pradesh</td></tr><tr><td>Punjab/Mohali/Zirakpur</td></tr><tr><td>Puducherry</td></tr><tr><td>orissa</td></tr><tr><td>rajasthan</td></tr><tr><td>Rajshthan</td></tr><tr><td>Rajsthan</td></tr><tr><td>Orissa</td></tr><tr><td>Meghalaya</td></tr></tbody></table></div>"
      ]
     },
     "metadata": {
      "application/vnd.databricks.v1+output": {
       "addedWidgets": {},
       "aggData": [],
       "aggError": "",
       "aggOverflow": false,
       "aggSchema": [],
       "aggSeriesLimitReached": false,
       "aggType": "",
       "arguments": {},
       "columnCustomDisplayInfos": {},
       "data": [
        [
         "DADRA AND NAGAR"
        ],
        [
         "SIKKIM"
        ],
        [
         "delhi"
        ],
        [
         "MEGHALAYA"
        ],
        [
         "Odisha"
        ],
        [
         "WEST BENGAL"
        ],
        [
         "Punjab"
        ],
        [
         "GOA"
        ],
        [
         "CHHATTISGARH"
        ],
        [
         "RAJASTHAN"
        ],
        [
         "APO"
        ],
        [
         null
        ],
        [
         "goa"
        ],
        [
         "Manipur"
        ],
        [
         "punjab"
        ],
        [
         "TRIPURA"
        ],
        [
         "DELHI"
        ],
        [
         "Goa"
        ],
        [
         "HIMACHAL PRADESH"
        ],
        [
         "BIHAR"
        ],
        [
         "CHANDIGARH"
        ],
        [
         "KARNATAKA"
        ],
        [
         "JAMMU & KASHMIR"
        ],
        [
         "UTTAR PRADESH"
        ],
        [
         "PB"
        ],
        [
         "MANIPUR"
        ],
        [
         "MADHYA PRADESH"
        ],
        [
         "Arunachal Pradesh"
        ],
        [
         "Gujarat"
        ],
        [
         "ANDAMAN & NICOBAR "
        ],
        [
         "PUDUCHERRY"
        ],
        [
         "TAMIL NADU"
        ],
        [
         "MAHARASHTRA"
        ],
        [
         "Sikkim"
        ],
        [
         "Delhi"
        ],
        [
         "PUNJAB"
        ],
        [
         "Chandigarh"
        ],
        [
         "Pondicherry"
        ],
        [
         "NAGALAND"
        ],
        [
         "ARUNACHAL PRADESH"
        ],
        [
         "UTTARAKHAND"
        ],
        [
         "Rajasthan"
        ],
        [
         "HARYANA"
        ],
        [
         "MIZORAM"
        ],
        [
         "TELANGANA"
        ],
        [
         "New Delhi"
        ],
        [
         "RJ"
        ],
        [
         "ODISHA"
        ],
        [
         "LADAKH"
        ],
        [
         "ANDHRA PRADESH"
        ],
        [
         "KERALA"
        ],
        [
         "Bihar"
        ],
        [
         "AR"
        ],
        [
         "ASSAM"
        ],
        [
         "JHARKHAND"
        ],
        [
         "Nagaland"
        ],
        [
         "NL"
        ],
        [
         "rajsthan"
        ],
        [
         "Mizoram"
        ],
        [
         "bihar"
        ],
        [
         "LAKSHADWEEP"
        ],
        [
         "Arunachal pradesh"
        ],
        [
         "Punjab/Mohali/Zirakpur"
        ],
        [
         "Puducherry"
        ],
        [
         "orissa"
        ],
        [
         "rajasthan"
        ],
        [
         "Rajshthan"
        ],
        [
         "Rajsthan"
        ],
        [
         "Orissa"
        ],
        [
         "Meghalaya"
        ]
       ],
       "datasetInfos": [],
       "dbfsResultPath": null,
       "isJsonSchema": true,
       "metadata": {},
       "overflow": false,
       "plotOptions": {
        "customPlotOptions": {},
        "displayType": "table",
        "pivotAggregation": null,
        "pivotColumns": null,
        "xColumns": null,
        "yColumns": null
       },
       "removedWidgets": [],
       "schema": [
        {
         "metadata": "{}",
         "name": "ship_state",
         "type": "\"string\""
        }
       ],
       "type": "table"
      }
     },
     "output_type": "display_data"
    }
   ],
   "source": [
    "retail_india_l0.select('ship_state').distinct().display()"
   ]
  },
  {
   "cell_type": "code",
   "execution_count": 0,
   "metadata": {
    "application/vnd.databricks.v1+cell": {
     "cellMetadata": {
      "byteLimit": 2048000,
      "rowLimit": 10000
     },
     "inputWidgets": {},
     "nuid": "1da9685f-abd0-4f5d-9b1e-ddd4e77e9ec5",
     "showTitle": false,
     "title": ""
    }
   },
   "outputs": [
    {
     "output_type": "display_data",
     "data": {
      "text/html": [
       "<style scoped>\n",
       "  .table-result-container {\n",
       "    max-height: 300px;\n",
       "    overflow: auto;\n",
       "  }\n",
       "  table, th, td {\n",
       "    border: 1px solid black;\n",
       "    border-collapse: collapse;\n",
       "  }\n",
       "  th, td {\n",
       "    padding: 5px;\n",
       "  }\n",
       "  th {\n",
       "    text-align: left;\n",
       "  }\n",
       "</style><div class='table-result-container'><table class='table-result'><thead style='background-color: white'><tr><th>ship_state</th></tr></thead><tbody><tr><td>DADRA AND NAGAR</td></tr><tr><td>SIKKIM</td></tr><tr><td>MEGHALAYA</td></tr><tr><td>WEST BENGAL</td></tr><tr><td>NEW DELHI</td></tr><tr><td>GOA</td></tr><tr><td>CHHATTISGARH</td></tr><tr><td>RAJASTHAN</td></tr><tr><td>APO</td></tr><tr><td>null</td></tr><tr><td>TRIPURA</td></tr><tr><td>DELHI</td></tr><tr><td>HIMACHAL PRADESH</td></tr><tr><td>GUJARAT</td></tr><tr><td>BIHAR</td></tr><tr><td>CHANDIGARH</td></tr><tr><td>KARNATAKA</td></tr><tr><td>JAMMU & KASHMIR</td></tr><tr><td>UTTAR PRADESH</td></tr><tr><td>PB</td></tr><tr><td>MANIPUR</td></tr><tr><td>MADHYA PRADESH</td></tr><tr><td>ANDAMAN & NICOBAR </td></tr><tr><td>PUDUCHERRY</td></tr><tr><td>TAMIL NADU</td></tr><tr><td>MAHARASHTRA</td></tr><tr><td>PUNJAB</td></tr><tr><td>NAGALAND</td></tr><tr><td>ARUNACHAL PRADESH</td></tr><tr><td>UTTARAKHAND</td></tr><tr><td>PONDICHERRY</td></tr><tr><td>HARYANA</td></tr><tr><td>MIZORAM</td></tr><tr><td>TELANGANA</td></tr><tr><td>RJ</td></tr><tr><td>ODISHA</td></tr><tr><td>LADAKH</td></tr><tr><td>ANDHRA PRADESH</td></tr><tr><td>KERALA</td></tr><tr><td>AR</td></tr><tr><td>ASSAM</td></tr><tr><td>JHARKHAND</td></tr><tr><td>NL</td></tr><tr><td>LAKSHADWEEP</td></tr><tr><td>RAJSTHAN</td></tr><tr><td>ORISSA</td></tr><tr><td>RAJSHTHAN</td></tr><tr><td>PUNJAB/MOHALI/ZIRAKPUR</td></tr></tbody></table></div>"
      ]
     },
     "metadata": {
      "application/vnd.databricks.v1+output": {
       "addedWidgets": {},
       "aggData": [],
       "aggError": "",
       "aggOverflow": false,
       "aggSchema": [],
       "aggSeriesLimitReached": false,
       "aggType": "",
       "arguments": {},
       "columnCustomDisplayInfos": {},
       "data": [
        [
         "DADRA AND NAGAR"
        ],
        [
         "SIKKIM"
        ],
        [
         "MEGHALAYA"
        ],
        [
         "WEST BENGAL"
        ],
        [
         "NEW DELHI"
        ],
        [
         "GOA"
        ],
        [
         "CHHATTISGARH"
        ],
        [
         "RAJASTHAN"
        ],
        [
         "APO"
        ],
        [
         null
        ],
        [
         "TRIPURA"
        ],
        [
         "DELHI"
        ],
        [
         "HIMACHAL PRADESH"
        ],
        [
         "GUJARAT"
        ],
        [
         "BIHAR"
        ],
        [
         "CHANDIGARH"
        ],
        [
         "KARNATAKA"
        ],
        [
         "JAMMU & KASHMIR"
        ],
        [
         "UTTAR PRADESH"
        ],
        [
         "PB"
        ],
        [
         "MANIPUR"
        ],
        [
         "MADHYA PRADESH"
        ],
        [
         "ANDAMAN & NICOBAR "
        ],
        [
         "PUDUCHERRY"
        ],
        [
         "TAMIL NADU"
        ],
        [
         "MAHARASHTRA"
        ],
        [
         "PUNJAB"
        ],
        [
         "NAGALAND"
        ],
        [
         "ARUNACHAL PRADESH"
        ],
        [
         "UTTARAKHAND"
        ],
        [
         "PONDICHERRY"
        ],
        [
         "HARYANA"
        ],
        [
         "MIZORAM"
        ],
        [
         "TELANGANA"
        ],
        [
         "RJ"
        ],
        [
         "ODISHA"
        ],
        [
         "LADAKH"
        ],
        [
         "ANDHRA PRADESH"
        ],
        [
         "KERALA"
        ],
        [
         "AR"
        ],
        [
         "ASSAM"
        ],
        [
         "JHARKHAND"
        ],
        [
         "NL"
        ],
        [
         "LAKSHADWEEP"
        ],
        [
         "RAJSTHAN"
        ],
        [
         "ORISSA"
        ],
        [
         "RAJSHTHAN"
        ],
        [
         "PUNJAB/MOHALI/ZIRAKPUR"
        ]
       ],
       "datasetInfos": [],
       "dbfsResultPath": null,
       "isJsonSchema": true,
       "metadata": {},
       "overflow": false,
       "plotOptions": {
        "customPlotOptions": {},
        "displayType": "table",
        "pivotAggregation": null,
        "pivotColumns": null,
        "xColumns": null,
        "yColumns": null
       },
       "removedWidgets": [],
       "schema": [
        {
         "metadata": "{}",
         "name": "ship_state",
         "type": "\"string\""
        }
       ],
       "type": "table"
      }
     },
     "output_type": "display_data"
    }
   ],
   "source": [
    "retail_india_l0 = retail_india_l0.withColumn('ship_state',F.upper('ship_state'))\n",
    "\n",
    "retail_india_l0.select('ship_state').distinct().display()"
   ]
  },
  {
   "cell_type": "code",
   "execution_count": 0,
   "metadata": {
    "application/vnd.databricks.v1+cell": {
     "cellMetadata": {
      "byteLimit": 2048000,
      "rowLimit": 10000
     },
     "inputWidgets": {},
     "nuid": "167d5bd2-ffd6-4e9a-b0a5-9ea7144efb13",
     "showTitle": false,
     "title": ""
    }
   },
   "outputs": [
    {
     "output_type": "display_data",
     "data": {
      "text/html": [
       "<style scoped>\n",
       "  .ansiout {\n",
       "    display: block;\n",
       "    unicode-bidi: embed;\n",
       "    white-space: pre-wrap;\n",
       "    word-wrap: break-word;\n",
       "    word-break: break-all;\n",
       "    font-family: \"Menlo\", \"Monaco\", \"Consolas\", \"Ubuntu Mono\", \"Source Code Pro\", monospace;\n",
       "    font-size: 13px;\n",
       "    color: #555;\n",
       "    margin-left: 4px;\n",
       "    line-height: 19px;\n",
       "  }\n",
       "</style>\n",
       "<div class=\"ansiout\"></div>"
      ]
     },
     "metadata": {
      "application/vnd.databricks.v1+output": {
       "addedWidgets": {},
       "arguments": {},
       "data": "<div class=\"ansiout\"></div>",
       "datasetInfos": [],
       "metadata": {},
       "removedWidgets": [],
       "type": "html"
      }
     },
     "output_type": "display_data"
    }
   ],
   "source": [
    "retail_india_l0 = retail_india_l0.withColumn(\"ship_state\",F.when(F.col('ship_state') == \"APO\", F.lit('ANDHRA PRADESH')).otherwise(F.col('ship_state')))\\\n",
    "    .withColumn(\"ship_state\",F.when(F.col('ship_state') == \"AR\", F.lit('ARUNACHAL PRADESH')).otherwise(F.col('ship_state')))\\\n",
    "    .withColumn(\"ship_state\",F.when(F.col('ship_state') == \"NL\", F.lit('NAGALAND')).otherwise(F.col('ship_state')))\\\n",
    "    .withColumn(\"ship_state\",F.when(F.col('ship_state') == \"ORISSA\", F.lit('ODISHA')).otherwise(F.col('ship_state')))\\\n",
    "    .withColumn(\"ship_state\",F.when(F.col('ship_state') == \"PB\", F.lit('PUNJAB')).otherwise(F.col('ship_state')))\\\n",
    "    .withColumn(\"ship_state\",F.when(F.col('ship_state') == \"PUNJAB/MOHALI/ZIRAKPUR\", F.lit('PUNJAB')).otherwise(F.col('ship_state')))\\\n",
    "    .withColumn(\"ship_state\",F.when(F.col('ship_state') == \"PONDICHERRY\", F.lit('PUDUCHERRY')).otherwise(F.col('ship_state')))\\\n",
    "    .withColumn(\"ship_state\",F.when(F.col('ship_state') == \"RAJSHTHAN\", F.lit('RAJASTHAN')).otherwise(F.col('ship_state')))\\\n",
    "    .withColumn(\"ship_state\",F.when(F.col('ship_state') == \"RAJSTHAN\", F.lit('RAJASTHAN')).otherwise(F.col('ship_state')))\\\n",
    "    .withColumn(\"ship_state\",F.when(F.col('ship_state') == \"RJ\", F.lit('RAJASTHAN')).otherwise(F.col('ship_state')))\\\n",
    "    .withColumnRenamed('ship_state','state')"
   ]
  },
  {
   "cell_type": "code",
   "execution_count": 0,
   "metadata": {
    "application/vnd.databricks.v1+cell": {
     "cellMetadata": {
      "byteLimit": 2048000,
      "rowLimit": 10000
     },
     "inputWidgets": {},
     "nuid": "dce31f7e-f6ad-4d9a-9201-b7f7b06f2f9e",
     "showTitle": false,
     "title": ""
    }
   },
   "outputs": [
    {
     "output_type": "display_data",
     "data": {
      "text/html": [
       "<style scoped>\n",
       "  .ansiout {\n",
       "    display: block;\n",
       "    unicode-bidi: embed;\n",
       "    white-space: pre-wrap;\n",
       "    word-wrap: break-word;\n",
       "    word-break: break-all;\n",
       "    font-family: \"Menlo\", \"Monaco\", \"Consolas\", \"Ubuntu Mono\", \"Source Code Pro\", monospace;\n",
       "    font-size: 13px;\n",
       "    color: #555;\n",
       "    margin-left: 4px;\n",
       "    line-height: 19px;\n",
       "  }\n",
       "</style>\n",
       "<div class=\"ansiout\"></div>"
      ]
     },
     "metadata": {
      "application/vnd.databricks.v1+output": {
       "addedWidgets": {},
       "arguments": {},
       "data": "<div class=\"ansiout\"></div>",
       "datasetInfos": [],
       "metadata": {},
       "removedWidgets": [],
       "type": "html"
      }
     },
     "output_type": "display_data"
    }
   ],
   "source": [
    "order_quantity = retail_india_l0.groupBy('order_id').agg(F.sum('qty').alias('sum_order_quantity'),\\\n",
    "                                                         F.sum('amount').alias('sum_amount'))\n",
    "\n",
    "state_wise_order_quantity = retail_india_l0.select('state','order_id').distinct().join(order_quantity, ['order_id'],'inner')\n",
    "\n",
    "state_wise_order_quantity_analysis = state_wise_order_quantity.groupBy('state').agg(F.avg('sum_order_quantity').alias('Average_Order_Quantity'),F.avg('sum_amount').alias('Average_Sales_Amount'))\n",
    "\n",
    "state_wise_analytics = retail_india_l0.groupBy('state').agg(F.countDistinct('order_id').alias('Number_of_Orders'), \\\n",
    "                                                              F.sum('qty').alias('Sales_Quantity'), \\\n",
    "                                                              F.sum('amount').alias('Sales_Amount'))\n",
    "\n",
    "\n",
    "state_wise_order_analysis = state_wise_analytics.join(state_wise_order_quantity_analysis, ['state'], \"inner\")"
   ]
  },
  {
   "cell_type": "code",
   "execution_count": 0,
   "metadata": {
    "application/vnd.databricks.v1+cell": {
     "cellMetadata": {
      "byteLimit": 2048000,
      "rowLimit": 10000
     },
     "inputWidgets": {},
     "nuid": "88de87b1-458e-4633-a5e5-01c2daa0d7b5",
     "showTitle": false,
     "title": ""
    }
   },
   "outputs": [
    {
     "output_type": "display_data",
     "data": {
      "text/html": [
       "<style scoped>\n",
       "  .table-result-container {\n",
       "    max-height: 300px;\n",
       "    overflow: auto;\n",
       "  }\n",
       "  table, th, td {\n",
       "    border: 1px solid black;\n",
       "    border-collapse: collapse;\n",
       "  }\n",
       "  th, td {\n",
       "    padding: 5px;\n",
       "  }\n",
       "  th {\n",
       "    text-align: left;\n",
       "  }\n",
       "</style><div class='table-result-container'><table class='table-result'><thead style='background-color: white'><tr><th>state</th><th>Number_of_Orders</th><th>Sales_Quantity</th><th>Sales_Amount</th><th>Average_Order_Quantity</th><th>Average_Sales_Amount</th></tr></thead><tbody><tr><td>DADRA AND NAGAR</td><td>53</td><td>58</td><td>39276.0</td><td>1.0943396226415094</td><td>770.1176470588235</td></tr><tr><td>SIKKIM</td><td>186</td><td>182</td><td>134847.0</td><td>0.978494623655914</td><td>774.9827586206897</td></tr><tr><td>MEGHALAYA</td><td>179</td><td>184</td><td>111234.0</td><td>1.0279329608938548</td><td>650.4912280701755</td></tr><tr><td>WEST BENGAL</td><td>5336</td><td>5318</td><td>3357170.0</td><td>0.9966266866566716</td><td>668.7589641434263</td></tr><tr><td>NEW DELHI</td><td>72</td><td>72</td><td>45609.0</td><td>1.0</td><td>670.7205882352941</td></tr><tr><td>GOA</td><td>1038</td><td>1055</td><td>622220.0</td><td>1.0163776493256262</td><td>623.4669338677355</td></tr><tr><td>CHHATTISGARH</td><td>821</td><td>822</td><td>541811.0</td><td>1.0012180267965896</td><td>688.4510800508259</td></tr><tr><td>RAJASTHAN</td><td>2369</td><td>2432</td><td>1683325.0</td><td>1.0265934993668215</td><td>751.149040606872</td></tr><tr><td>TRIPURA</td><td>132</td><td>134</td><td>86799.0</td><td>1.0151515151515151</td><td>683.4566929133858</td></tr><tr><td>DELHI</td><td>6214</td><td>6326</td><td>4185475.0</td><td>1.018023817186997</td><td>706.0517881241566</td></tr><tr><td>HIMACHAL PRADESH</td><td>684</td><td>675</td><td>470548.0</td><td>0.9868421052631579</td><td>736.3818466353678</td></tr><tr><td>GUJARAT</td><td>3943</td><td>4149</td><td>2618903.0</td><td>1.052244483895511</td><td>713.403159901934</td></tr><tr><td>BIHAR</td><td>1908</td><td>1875</td><td>1351529.0</td><td>0.9827044025157232</td><td>758.0084127874369</td></tr><tr><td>CHANDIGARH</td><td>299</td><td>304</td><td>203354.0</td><td>1.0167224080267558</td><td>706.0902777777778</td></tr><tr><td>KARNATAKA</td><td>15465</td><td>15901</td><td>1.01531E7</td><td>1.0281926931781442</td><td>686.5305294475623</td></tr><tr><td>JAMMU & KASHMIR</td><td>623</td><td>617</td><td>432712.0</td><td>0.9903691813804173</td><td>740.945205479452</td></tr><tr><td>UTTAR PRADESH</td><td>9434</td><td>9499</td><td>6494393.0</td><td>1.0068899724401101</td><td>725.7926911041574</td></tr><tr><td>MANIPUR</td><td>279</td><td>294</td><td>210922.0</td><td>1.053763440860215</td><td>787.0223880597015</td></tr><tr><td>LAKSHADWEEP</td><td>3</td><td>3</td><td>2441.0</td><td>1.0</td><td>813.6666666666666</td></tr><tr><td>MADHYA PRADESH</td><td>2226</td><td>2260</td><td>1525537.0</td><td>1.0152740341419586</td><td>721.9768102224325</td></tr><tr><td>ANDAMAN & NICOBAR </td><td>221</td><td>226</td><td>146093.0</td><td>1.0226244343891402</td><td>699.0095693779904</td></tr><tr><td>PUDUCHERRY</td><td>290</td><td>310</td><td>182198.0</td><td>1.0689655172413792</td><td>679.8432835820895</td></tr><tr><td>TAMIL NADU</td><td>9998</td><td>10412</td><td>6241913.0</td><td>1.0414082816563313</td><td>657.1818277532112</td></tr><tr><td>MAHARASHTRA</td><td>19810</td><td>20328</td><td>1.2864511E7</td><td>1.026148409893993</td><td>679.5832540940306</td></tr><tr><td>PUNJAB</td><td>1716</td><td>1744</td><td>1163716.0</td><td>1.0163170163170163</td><td>712.188494492044</td></tr><tr><td>NAGALAND</td><td>159</td><td>183</td><td>140129.0</td><td>1.150943396226415</td><td>904.058064516129</td></tr><tr><td>ARUNACHAL PRADESH</td><td>126</td><td>135</td><td>94865.0</td><td>1.0714285714285714</td><td>771.260162601626</td></tr><tr><td>UTTARAKHAND</td><td>1399</td><td>1385</td><td>932314.0</td><td>0.9899928520371694</td><td>707.3702579666161</td></tr><tr><td>HARYANA</td><td>3970</td><td>4066</td><td>2791446.0</td><td>1.0241813602015113</td><td>734.7844169518295</td></tr><tr><td>MIZORAM</td><td>65</td><td>69</td><td>38503.0</td><td>1.0615384615384615</td><td>601.609375</td></tr><tr><td>TELANGANA</td><td>9866</td><td>10253</td><td>6642955.0</td><td>1.0392256233529293</td><td>708.8843239782307</td></tr><tr><td>ODISHA</td><td>1918</td><td>1911</td><td>1324830.0</td><td>0.9963503649635036</td><td>735.6079955580233</td></tr><tr><td>LADAKH</td><td>40</td><td>40</td><td>36737.0</td><td>1.0</td><td>941.974358974359</td></tr><tr><td>ANDHRA PRADESH</td><td>4659</td><td>4819</td><td>3049151.0</td><td>1.034342133505044</td><td>693.6194267515923</td></tr><tr><td>KERALA</td><td>5679</td><td>5813</td><td>3618505.0</td><td>1.0235957034689205</td><td>672.8346969133507</td></tr><tr><td>ASSAM</td><td>1503</td><td>1483</td><td>976951.0</td><td>0.9866932801064537</td><td>685.579649122807</td></tr><tr><td>JHARKHAND</td><td>1287</td><td>1284</td><td>868953.0</td><td>0.9976689976689976</td><td>716.9579207920792</td></tr></tbody></table></div>"
      ]
     },
     "metadata": {
      "application/vnd.databricks.v1+output": {
       "addedWidgets": {},
       "aggData": [],
       "aggError": "",
       "aggOverflow": false,
       "aggSchema": [],
       "aggSeriesLimitReached": false,
       "aggType": "",
       "arguments": {},
       "columnCustomDisplayInfos": {},
       "data": [
        [
         "DADRA AND NAGAR",
         53,
         58,
         39276.0,
         1.0943396226415094,
         770.1176470588235
        ],
        [
         "SIKKIM",
         186,
         182,
         134847.0,
         0.978494623655914,
         774.9827586206897
        ],
        [
         "MEGHALAYA",
         179,
         184,
         111234.0,
         1.0279329608938548,
         650.4912280701755
        ],
        [
         "WEST BENGAL",
         5336,
         5318,
         3357170.0,
         0.9966266866566716,
         668.7589641434263
        ],
        [
         "NEW DELHI",
         72,
         72,
         45609.0,
         1.0,
         670.7205882352941
        ],
        [
         "GOA",
         1038,
         1055,
         622220.0,
         1.0163776493256262,
         623.4669338677355
        ],
        [
         "CHHATTISGARH",
         821,
         822,
         541811.0,
         1.0012180267965896,
         688.4510800508259
        ],
        [
         "RAJASTHAN",
         2369,
         2432,
         1683325.0,
         1.0265934993668215,
         751.149040606872
        ],
        [
         "TRIPURA",
         132,
         134,
         86799.0,
         1.0151515151515151,
         683.4566929133858
        ],
        [
         "DELHI",
         6214,
         6326,
         4185475.0,
         1.018023817186997,
         706.0517881241566
        ],
        [
         "HIMACHAL PRADESH",
         684,
         675,
         470548.0,
         0.9868421052631579,
         736.3818466353678
        ],
        [
         "GUJARAT",
         3943,
         4149,
         2618903.0,
         1.052244483895511,
         713.403159901934
        ],
        [
         "BIHAR",
         1908,
         1875,
         1351529.0,
         0.9827044025157232,
         758.0084127874369
        ],
        [
         "CHANDIGARH",
         299,
         304,
         203354.0,
         1.0167224080267558,
         706.0902777777778
        ],
        [
         "KARNATAKA",
         15465,
         15901,
         1.01531E7,
         1.0281926931781442,
         686.5305294475623
        ],
        [
         "JAMMU & KASHMIR",
         623,
         617,
         432712.0,
         0.9903691813804173,
         740.945205479452
        ],
        [
         "UTTAR PRADESH",
         9434,
         9499,
         6494393.0,
         1.0068899724401101,
         725.7926911041574
        ],
        [
         "MANIPUR",
         279,
         294,
         210922.0,
         1.053763440860215,
         787.0223880597015
        ],
        [
         "LAKSHADWEEP",
         3,
         3,
         2441.0,
         1.0,
         813.6666666666666
        ],
        [
         "MADHYA PRADESH",
         2226,
         2260,
         1525537.0,
         1.0152740341419586,
         721.9768102224325
        ],
        [
         "ANDAMAN & NICOBAR ",
         221,
         226,
         146093.0,
         1.0226244343891402,
         699.0095693779904
        ],
        [
         "PUDUCHERRY",
         290,
         310,
         182198.0,
         1.0689655172413792,
         679.8432835820895
        ],
        [
         "TAMIL NADU",
         9998,
         10412,
         6241913.0,
         1.0414082816563313,
         657.1818277532112
        ],
        [
         "MAHARASHTRA",
         19810,
         20328,
         1.2864511E7,
         1.026148409893993,
         679.5832540940306
        ],
        [
         "PUNJAB",
         1716,
         1744,
         1163716.0,
         1.0163170163170163,
         712.188494492044
        ],
        [
         "NAGALAND",
         159,
         183,
         140129.0,
         1.150943396226415,
         904.058064516129
        ],
        [
         "ARUNACHAL PRADESH",
         126,
         135,
         94865.0,
         1.0714285714285714,
         771.260162601626
        ],
        [
         "UTTARAKHAND",
         1399,
         1385,
         932314.0,
         0.9899928520371694,
         707.3702579666161
        ],
        [
         "HARYANA",
         3970,
         4066,
         2791446.0,
         1.0241813602015113,
         734.7844169518295
        ],
        [
         "MIZORAM",
         65,
         69,
         38503.0,
         1.0615384615384615,
         601.609375
        ],
        [
         "TELANGANA",
         9866,
         10253,
         6642955.0,
         1.0392256233529293,
         708.8843239782307
        ],
        [
         "ODISHA",
         1918,
         1911,
         1324830.0,
         0.9963503649635036,
         735.6079955580233
        ],
        [
         "LADAKH",
         40,
         40,
         36737.0,
         1.0,
         941.974358974359
        ],
        [
         "ANDHRA PRADESH",
         4659,
         4819,
         3049151.0,
         1.034342133505044,
         693.6194267515923
        ],
        [
         "KERALA",
         5679,
         5813,
         3618505.0,
         1.0235957034689205,
         672.8346969133507
        ],
        [
         "ASSAM",
         1503,
         1483,
         976951.0,
         0.9866932801064537,
         685.579649122807
        ],
        [
         "JHARKHAND",
         1287,
         1284,
         868953.0,
         0.9976689976689976,
         716.9579207920792
        ]
       ],
       "datasetInfos": [],
       "dbfsResultPath": null,
       "isJsonSchema": true,
       "metadata": {},
       "overflow": false,
       "plotOptions": {
        "customPlotOptions": {},
        "displayType": "table",
        "pivotAggregation": null,
        "pivotColumns": null,
        "xColumns": null,
        "yColumns": null
       },
       "removedWidgets": [],
       "schema": [
        {
         "metadata": "{}",
         "name": "state",
         "type": "\"string\""
        },
        {
         "metadata": "{}",
         "name": "Number_of_Orders",
         "type": "\"long\""
        },
        {
         "metadata": "{}",
         "name": "Sales_Quantity",
         "type": "\"long\""
        },
        {
         "metadata": "{}",
         "name": "Sales_Amount",
         "type": "\"double\""
        },
        {
         "metadata": "{}",
         "name": "Average_Order_Quantity",
         "type": "\"double\""
        },
        {
         "metadata": "{}",
         "name": "Average_Sales_Amount",
         "type": "\"double\""
        }
       ],
       "type": "table"
      }
     },
     "output_type": "display_data"
    }
   ],
   "source": [
    "state_wise_order_analysis.display()"
   ]
  },
  {
   "cell_type": "markdown",
   "metadata": {
    "application/vnd.databricks.v1+cell": {
     "cellMetadata": {
      "byteLimit": 2048000,
      "rowLimit": 10000
     },
     "inputWidgets": {},
     "nuid": "92558a98-c67f-4876-96e5-168a3bdbc5c3",
     "showTitle": false,
     "title": ""
    }
   },
   "source": [
    "##Analysis-2: Category Analysis"
   ]
  },
  {
   "cell_type": "code",
   "execution_count": 0,
   "metadata": {
    "application/vnd.databricks.v1+cell": {
     "cellMetadata": {
      "byteLimit": 2048000,
      "rowLimit": 10000
     },
     "inputWidgets": {},
     "nuid": "54ca771c-aa91-4feb-bf2b-c6810d9cff8f",
     "showTitle": false,
     "title": ""
    }
   },
   "outputs": [
    {
     "output_type": "display_data",
     "data": {
      "text/html": [
       "<style scoped>\n",
       "  .ansiout {\n",
       "    display: block;\n",
       "    unicode-bidi: embed;\n",
       "    white-space: pre-wrap;\n",
       "    word-wrap: break-word;\n",
       "    word-break: break-all;\n",
       "    font-family: \"Menlo\", \"Monaco\", \"Consolas\", \"Ubuntu Mono\", \"Source Code Pro\", monospace;\n",
       "    font-size: 13px;\n",
       "    color: #555;\n",
       "    margin-left: 4px;\n",
       "    line-height: 19px;\n",
       "  }\n",
       "</style>\n",
       "<div class=\"ansiout\"></div>"
      ]
     },
     "metadata": {
      "application/vnd.databricks.v1+output": {
       "addedWidgets": {},
       "arguments": {},
       "data": "<div class=\"ansiout\"></div>",
       "datasetInfos": [],
       "metadata": {},
       "removedWidgets": [],
       "type": "html"
      }
     },
     "output_type": "display_data"
    }
   ],
   "source": [
    "order_quantity_category = retail_india_l0.groupBy('order_id','category').agg(F.sum('qty').alias('sum_order_quantity'),\\\n",
    "                                                         F.sum('amount').alias('sum_amount'))\n",
    "\n",
    "category_wise_order_quantity_analysis = order_quantity_category.groupBy('category').agg(F.avg('sum_order_quantity').alias('Average_Order_Quantity'),F.avg('sum_amount').alias('Average_Sales_Amount'))\n",
    "\n",
    "category_wise_analytics = retail_india_l0.groupBy('category').agg(F.countDistinct('order_id').alias('Number_of_Orders'), \\\n",
    "                                                              F.sum('qty').alias('Sales_Quantity'), \\\n",
    "                                                              F.sum('amount').alias('Sales_Amount'))\n",
    "\n",
    "\n",
    "category_wise_order_analysis = category_wise_analytics.join(category_wise_order_quantity_analysis, ['category'], \"inner\")"
   ]
  },
  {
   "cell_type": "code",
   "execution_count": 0,
   "metadata": {
    "application/vnd.databricks.v1+cell": {
     "cellMetadata": {
      "byteLimit": 2048000,
      "rowLimit": 10000
     },
     "inputWidgets": {},
     "nuid": "32a6ebe9-27ab-40f5-b5d1-989edeafa1b5",
     "showTitle": false,
     "title": ""
    }
   },
   "outputs": [
    {
     "output_type": "display_data",
     "data": {
      "text/html": [
       "<style scoped>\n",
       "  .table-result-container {\n",
       "    max-height: 300px;\n",
       "    overflow: auto;\n",
       "  }\n",
       "  table, th, td {\n",
       "    border: 1px solid black;\n",
       "    border-collapse: collapse;\n",
       "  }\n",
       "  th, td {\n",
       "    padding: 5px;\n",
       "  }\n",
       "  th {\n",
       "    text-align: left;\n",
       "  }\n",
       "</style><div class='table-result-container'><table class='table-result'><thead style='background-color: white'><tr><th>category</th><th>Number_of_Orders</th><th>Sales_Quantity</th><th>Sales_Amount</th><th>Average_Order_Quantity</th><th>Average_Sales_Amount</th></tr></thead><tbody><tr><td>KURTA</td><td>44136</td><td>45045</td><td>2.0452141E7</td><td>1.0205954323001631</td><td>489.62536209331836</td></tr><tr><td>SET</td><td>45358</td><td>45289</td><td>3.7662424E7</td><td>0.9984787689051545</td><td>877.8710549624726</td></tr><tr><td>ETHNIC DRESS</td><td>1091</td><td>1053</td><td>760711.0</td><td>0.9651695692025665</td><td>730.7502401536983</td></tr><tr><td>WESTERN DRESS</td><td>13907</td><td>13943</td><td>1.0629096E7</td><td>1.0025886244337383</td><td>791.6800238343512</td></tr><tr><td>SAREE</td><td>136</td><td>152</td><td>118509.0</td><td>1.1176470588235294</td><td>925.8515625</td></tr><tr><td>BLOUSE</td><td>848</td><td>863</td><td>434751.0</td><td>1.017688679245283</td><td>536.7296296296296</td></tr><tr><td>DUPATTA</td><td>2</td><td>3</td><td>915.0</td><td>1.5</td><td>457.5</td></tr><tr><td>BOTTOM</td><td>381</td><td>398</td><td>140226.0</td><td>1.0446194225721785</td><td>380.0162601626016</td></tr><tr><td>TOP</td><td>9779</td><td>9903</td><td>5203733.0</td><td>1.012680233152674</td><td>552.1202122015915</td></tr></tbody></table></div>"
      ]
     },
     "metadata": {
      "application/vnd.databricks.v1+output": {
       "addedWidgets": {},
       "aggData": [],
       "aggError": "",
       "aggOverflow": false,
       "aggSchema": [],
       "aggSeriesLimitReached": false,
       "aggType": "",
       "arguments": {},
       "columnCustomDisplayInfos": {},
       "data": [
        [
         "KURTA",
         44136,
         45045,
         2.0452141E7,
         1.0205954323001631,
         489.62536209331836
        ],
        [
         "SET",
         45358,
         45289,
         3.7662424E7,
         0.9984787689051545,
         877.8710549624726
        ],
        [
         "ETHNIC DRESS",
         1091,
         1053,
         760711.0,
         0.9651695692025665,
         730.7502401536983
        ],
        [
         "WESTERN DRESS",
         13907,
         13943,
         1.0629096E7,
         1.0025886244337383,
         791.6800238343512
        ],
        [
         "SAREE",
         136,
         152,
         118509.0,
         1.1176470588235294,
         925.8515625
        ],
        [
         "BLOUSE",
         848,
         863,
         434751.0,
         1.017688679245283,
         536.7296296296296
        ],
        [
         "DUPATTA",
         2,
         3,
         915.0,
         1.5,
         457.5
        ],
        [
         "BOTTOM",
         381,
         398,
         140226.0,
         1.0446194225721785,
         380.0162601626016
        ],
        [
         "TOP",
         9779,
         9903,
         5203733.0,
         1.012680233152674,
         552.1202122015915
        ]
       ],
       "datasetInfos": [],
       "dbfsResultPath": null,
       "isJsonSchema": true,
       "metadata": {},
       "overflow": false,
       "plotOptions": {
        "customPlotOptions": {},
        "displayType": "table",
        "pivotAggregation": null,
        "pivotColumns": null,
        "xColumns": null,
        "yColumns": null
       },
       "removedWidgets": [],
       "schema": [
        {
         "metadata": "{}",
         "name": "category",
         "type": "\"string\""
        },
        {
         "metadata": "{}",
         "name": "Number_of_Orders",
         "type": "\"long\""
        },
        {
         "metadata": "{}",
         "name": "Sales_Quantity",
         "type": "\"long\""
        },
        {
         "metadata": "{}",
         "name": "Sales_Amount",
         "type": "\"double\""
        },
        {
         "metadata": "{}",
         "name": "Average_Order_Quantity",
         "type": "\"double\""
        },
        {
         "metadata": "{}",
         "name": "Average_Sales_Amount",
         "type": "\"double\""
        }
       ],
       "type": "table"
      }
     },
     "output_type": "display_data"
    }
   ],
   "source": [
    "category_wise_order_analysis.display()"
   ]
  },
  {
   "cell_type": "markdown",
   "metadata": {
    "application/vnd.databricks.v1+cell": {
     "cellMetadata": {
      "byteLimit": 2048000,
      "rowLimit": 10000
     },
     "inputWidgets": {},
     "nuid": "9f2d6ed5-45d0-41c6-8090-0595c67c34f0",
     "showTitle": false,
     "title": ""
    }
   },
   "source": [
    "##Analysis-3: Promotion Analysis"
   ]
  },
  {
   "cell_type": "code",
   "execution_count": 0,
   "metadata": {
    "application/vnd.databricks.v1+cell": {
     "cellMetadata": {
      "byteLimit": 2048000,
      "rowLimit": 10000
     },
     "inputWidgets": {},
     "nuid": "3e5a84df-e252-42b5-bdc2-276e90bbfcfa",
     "showTitle": false,
     "title": ""
    }
   },
   "outputs": [
    {
     "output_type": "display_data",
     "data": {
      "text/html": [
       "<style scoped>\n",
       "  .ansiout {\n",
       "    display: block;\n",
       "    unicode-bidi: embed;\n",
       "    white-space: pre-wrap;\n",
       "    word-wrap: break-word;\n",
       "    word-break: break-all;\n",
       "    font-family: \"Menlo\", \"Monaco\", \"Consolas\", \"Ubuntu Mono\", \"Source Code Pro\", monospace;\n",
       "    font-size: 13px;\n",
       "    color: #555;\n",
       "    margin-left: 4px;\n",
       "    line-height: 19px;\n",
       "  }\n",
       "</style>\n",
       "<div class=\"ansiout\"></div>"
      ]
     },
     "metadata": {
      "application/vnd.databricks.v1+output": {
       "addedWidgets": {},
       "arguments": {},
       "data": "<div class=\"ansiout\"></div>",
       "datasetInfos": [],
       "metadata": {},
       "removedWidgets": [],
       "type": "html"
      }
     },
     "output_type": "display_data"
    }
   ],
   "source": [
    "promotion_sales = retail_india_l0.filter('promotion_ids == \"Promotion\"')\n",
    "promotion_sales = promotion_sales.groupBy('category').agg(F.countDistinct('order_id').alias('Promotion_Order_Counts'),\\\n",
    "                                                          F.sum('qty').alias('Promotion_Quantity_Sold'),\\\n",
    "                                                          F.sum('amount').alias('Promotion_Sales'))\n",
    "\n",
    "no_promotion_sales = retail_india_l0.filter('promotion_ids == \"No Promotion\"')\n",
    "no_promotion_sales = no_promotion_sales.groupBy('category').agg(F.countDistinct('order_id').alias('No_Promotion_Order_Counts'),\\\n",
    "                                                                F.sum('qty').alias('No_Promotion_Quantity_Sold'),\\\n",
    "                                                                F.sum('amount').alias('No_Promotion_Sales'))\n",
    "\n",
    "promotion_analysis = promotion_sales.join(no_promotion_sales, ['category'],\"inner\")\n",
    "\n",
    "promotion_analysis = promotion_analysis.withColumn('Percent_Promotion_Sales_Impact',\\\n",
    "    ((F.col('Promotion_Sales')-F.col('No_Promotion_Sales'))/F.col('No_Promotion_Sales'))*100)\\\n",
    "    .withColumn('Promotion_Quantity_Impact', (F.col('Promotion_Quantity_Sold')-F.col('No_Promotion_Quantity_Sold')))\n",
    "\n",
    "promotion_analysis = promotion_analysis.select('Category','Promotion_Order_Counts','No_Promotion_Order_Counts',\\\n",
    "                                                'Promotion_Quantity_Sold','No_Promotion_Quantity_Sold','Promotion_Quantity_Impact',\\\n",
    "                                                'Promotion_Sales','No_Promotion_Sales','Percent_Promotion_Sales_Impact')"
   ]
  },
  {
   "cell_type": "code",
   "execution_count": 0,
   "metadata": {
    "application/vnd.databricks.v1+cell": {
     "cellMetadata": {
      "byteLimit": 2048000,
      "rowLimit": 10000
     },
     "inputWidgets": {},
     "nuid": "04eb79a5-ef0e-43b3-a971-13601fda7579",
     "showTitle": false,
     "title": ""
    }
   },
   "outputs": [
    {
     "output_type": "display_data",
     "data": {
      "text/html": [
       "<style scoped>\n",
       "  .table-result-container {\n",
       "    max-height: 300px;\n",
       "    overflow: auto;\n",
       "  }\n",
       "  table, th, td {\n",
       "    border: 1px solid black;\n",
       "    border-collapse: collapse;\n",
       "  }\n",
       "  th, td {\n",
       "    padding: 5px;\n",
       "  }\n",
       "  th {\n",
       "    text-align: left;\n",
       "  }\n",
       "</style><div class='table-result-container'><table class='table-result'><thead style='background-color: white'><tr><th>Category</th><th>Promotion_Order_Counts</th><th>No_Promotion_Order_Counts</th><th>Promotion_Quantity_Sold</th><th>No_Promotion_Quantity_Sold</th><th>Promotion_Quantity_Impact</th><th>Promotion_Sales</th><th>No_Promotion_Sales</th><th>Percent_Promotion_Sales_Impact</th></tr></thead><tbody><tr><td>KURTA</td><td>25491</td><td>18647</td><td>28060</td><td>16985</td><td>11075</td><td>1.3090148E7</td><td>7361993.0</td><td>77.8071236959883</td></tr><tr><td>SET</td><td>31491</td><td>13869</td><td>33172</td><td>12117</td><td>21055</td><td>2.7944396E7</td><td>9718028.0</td><td>187.55212477263905</td></tr><tr><td>ETHNIC DRESS</td><td>641</td><td>450</td><td>649</td><td>404</td><td>245</td><td>484852.0</td><td>275859.0</td><td>75.76080533895939</td></tr><tr><td>WESTERN DRESS</td><td>10709</td><td>3202</td><td>11110</td><td>2833</td><td>8277</td><td>8438285.0</td><td>2190811.0</td><td>285.16718238131904</td></tr><tr><td>SAREE</td><td>97</td><td>39</td><td>120</td><td>32</td><td>88</td><td>93532.0</td><td>24977.0</td><td>274.47251471353644</td></tr><tr><td>BLOUSE</td><td>476</td><td>372</td><td>504</td><td>359</td><td>145</td><td>268011.0</td><td>166740.0</td><td>60.735876214465634</td></tr><tr><td>BOTTOM</td><td>269</td><td>112</td><td>294</td><td>104</td><td>190</td><td>107590.0</td><td>32636.0</td><td>229.6666258119868</td></tr><tr><td>TOP</td><td>5623</td><td>4157</td><td>5939</td><td>3964</td><td>1975</td><td>3160706.0</td><td>2043027.0</td><td>54.70701072477261</td></tr></tbody></table></div>"
      ]
     },
     "metadata": {
      "application/vnd.databricks.v1+output": {
       "addedWidgets": {},
       "aggData": [],
       "aggError": "",
       "aggOverflow": false,
       "aggSchema": [],
       "aggSeriesLimitReached": false,
       "aggType": "",
       "arguments": {},
       "columnCustomDisplayInfos": {},
       "data": [
        [
         "KURTA",
         25491,
         18647,
         28060,
         16985,
         11075,
         1.3090148E7,
         7361993.0,
         77.8071236959883
        ],
        [
         "SET",
         31491,
         13869,
         33172,
         12117,
         21055,
         2.7944396E7,
         9718028.0,
         187.55212477263905
        ],
        [
         "ETHNIC DRESS",
         641,
         450,
         649,
         404,
         245,
         484852.0,
         275859.0,
         75.76080533895939
        ],
        [
         "WESTERN DRESS",
         10709,
         3202,
         11110,
         2833,
         8277,
         8438285.0,
         2190811.0,
         285.16718238131904
        ],
        [
         "SAREE",
         97,
         39,
         120,
         32,
         88,
         93532.0,
         24977.0,
         274.47251471353644
        ],
        [
         "BLOUSE",
         476,
         372,
         504,
         359,
         145,
         268011.0,
         166740.0,
         60.735876214465634
        ],
        [
         "BOTTOM",
         269,
         112,
         294,
         104,
         190,
         107590.0,
         32636.0,
         229.6666258119868
        ],
        [
         "TOP",
         5623,
         4157,
         5939,
         3964,
         1975,
         3160706.0,
         2043027.0,
         54.70701072477261
        ]
       ],
       "datasetInfos": [],
       "dbfsResultPath": null,
       "isJsonSchema": true,
       "metadata": {},
       "overflow": false,
       "plotOptions": {
        "customPlotOptions": {},
        "displayType": "table",
        "pivotAggregation": null,
        "pivotColumns": null,
        "xColumns": null,
        "yColumns": null
       },
       "removedWidgets": [],
       "schema": [
        {
         "metadata": "{}",
         "name": "Category",
         "type": "\"string\""
        },
        {
         "metadata": "{}",
         "name": "Promotion_Order_Counts",
         "type": "\"long\""
        },
        {
         "metadata": "{}",
         "name": "No_Promotion_Order_Counts",
         "type": "\"long\""
        },
        {
         "metadata": "{}",
         "name": "Promotion_Quantity_Sold",
         "type": "\"long\""
        },
        {
         "metadata": "{}",
         "name": "No_Promotion_Quantity_Sold",
         "type": "\"long\""
        },
        {
         "metadata": "{}",
         "name": "Promotion_Quantity_Impact",
         "type": "\"long\""
        },
        {
         "metadata": "{}",
         "name": "Promotion_Sales",
         "type": "\"double\""
        },
        {
         "metadata": "{}",
         "name": "No_Promotion_Sales",
         "type": "\"double\""
        },
        {
         "metadata": "{}",
         "name": "Percent_Promotion_Sales_Impact",
         "type": "\"double\""
        }
       ],
       "type": "table"
      }
     },
     "output_type": "display_data"
    }
   ],
   "source": [
    "promotion_analysis.display()"
   ]
  },
  {
   "cell_type": "markdown",
   "metadata": {
    "application/vnd.databricks.v1+cell": {
     "cellMetadata": {
      "byteLimit": 2048000,
      "rowLimit": 10000
     },
     "inputWidgets": {},
     "nuid": "4ba7335c-6717-4643-a018-860252dfe019",
     "showTitle": false,
     "title": ""
    }
   },
   "source": [
    "##Analysis-4:  Cancellation Impact Analysis"
   ]
  },
  {
   "cell_type": "code",
   "execution_count": 0,
   "metadata": {
    "application/vnd.databricks.v1+cell": {
     "cellMetadata": {
      "byteLimit": 2048000,
      "rowLimit": 10000
     },
     "inputWidgets": {},
     "nuid": "9c006a18-d727-4a37-861b-5fb9612b996b",
     "showTitle": false,
     "title": ""
    }
   },
   "outputs": [
    {
     "output_type": "display_data",
     "data": {
      "text/html": [
       "<style scoped>\n",
       "  .ansiout {\n",
       "    display: block;\n",
       "    unicode-bidi: embed;\n",
       "    white-space: pre-wrap;\n",
       "    word-wrap: break-word;\n",
       "    word-break: break-all;\n",
       "    font-family: \"Menlo\", \"Monaco\", \"Consolas\", \"Ubuntu Mono\", \"Source Code Pro\", monospace;\n",
       "    font-size: 13px;\n",
       "    color: #555;\n",
       "    margin-left: 4px;\n",
       "    line-height: 19px;\n",
       "  }\n",
       "</style>\n",
       "<div class=\"ansiout\"></div>"
      ]
     },
     "metadata": {
      "application/vnd.databricks.v1+output": {
       "addedWidgets": {},
       "arguments": {},
       "data": "<div class=\"ansiout\"></div>",
       "datasetInfos": [],
       "metadata": {},
       "removedWidgets": [],
       "type": "html"
      }
     },
     "output_type": "display_data"
    }
   ],
   "source": [
    "cancelled_orders = retail_india_l0.filter('status == \"Cancelled\"')\n",
    "cancelled_orders = cancelled_orders.groupBy('category').agg(F.countDistinct('order_id').alias('Cancelled_Orders'),\\\n",
    "                                                            F.sum('qty').alias('Cancelled_Quantity'),\\\n",
    "                                                            F.sum('amount').alias('Cancelled_Amount'))\n",
    "\n",
    "not_cancelled_orders = retail_india_l0.filter('status != \"Cancelled\"')\n",
    "not_cancelled_orders = not_cancelled_orders.groupBy('category').agg(F.countDistinct('order_id').alias('Not_Cancelled_Orders'),\\\n",
    "                                                                    F.sum('qty').alias('Not_Cancelled_Quantity'),\\\n",
    "                                                                    F.sum('amount').alias('Not_Cancelled_Amount'))\n",
    "\n",
    "cancellation_analysis = cancelled_orders.join(not_cancelled_orders, ['category'],\"inner\")\n",
    "\n",
    "cancellation_analysis = cancellation_analysis.withColumn('Percent_Cancellation_Sale_Impact',\\\n",
    "                                        F.col('Cancelled_Amount')/(F.col('Not_Cancelled_Amount')+F.col('Cancelled_Amount'))*100)\\\n",
    "    .withColumn('Cancellation_Quantity_Impact', (F.col('Not_Cancelled_Quantity')-F.col('Cancelled_Quantity')))\n",
    "\n",
    "cancellation_analysis = cancellation_analysis.select('Category','Cancelled_Orders','Not_Cancelled_Orders',\\\n",
    "                                                'Cancelled_Quantity','Not_Cancelled_Quantity','Cancellation_Quantity_Impact',\\\n",
    "                                                'Cancelled_Amount','Not_Cancelled_Amount','Percent_Cancellation_Sale_Impact')"
   ]
  },
  {
   "cell_type": "code",
   "execution_count": 0,
   "metadata": {
    "application/vnd.databricks.v1+cell": {
     "cellMetadata": {
      "byteLimit": 2048000,
      "rowLimit": 10000
     },
     "inputWidgets": {},
     "nuid": "5631babf-6bfb-4f13-8e18-5ad5d28c925f",
     "showTitle": false,
     "title": ""
    }
   },
   "outputs": [
    {
     "output_type": "display_data",
     "data": {
      "text/html": [
       "<style scoped>\n",
       "  .table-result-container {\n",
       "    max-height: 300px;\n",
       "    overflow: auto;\n",
       "  }\n",
       "  table, th, td {\n",
       "    border: 1px solid black;\n",
       "    border-collapse: collapse;\n",
       "  }\n",
       "  th, td {\n",
       "    padding: 5px;\n",
       "  }\n",
       "  th {\n",
       "    text-align: left;\n",
       "  }\n",
       "</style><div class='table-result-container'><table class='table-result'><thead style='background-color: white'><tr><th>Category</th><th>Cancelled_Orders</th><th>Not_Cancelled_Orders</th><th>Cancelled_Quantity</th><th>Not_Cancelled_Quantity</th><th>Cancellation_Quantity_Impact</th><th>Cancelled_Amount</th><th>Not_Cancelled_Amount</th><th>Percent_Cancellation_Sale_Impact</th></tr></thead><tbody><tr><td>KURTA</td><td>4394</td><td>39742</td><td>2253</td><td>42792</td><td>40539</td><td>1026271.0</td><td>1.942587E7</td><td>5.017914750343253</td></tr><tr><td>SET</td><td>4503</td><td>40855</td><td>2256</td><td>43033</td><td>40777</td><td>1930751.0</td><td>3.5731673E7</td><td>5.126465041124279</td></tr><tr><td>ETHNIC DRESS</td><td>87</td><td>1004</td><td>37</td><td>1016</td><td>979</td><td>27967.0</td><td>732744.0</td><td>3.6764290249516574</td></tr><tr><td>WESTERN DRESS</td><td>983</td><td>12924</td><td>525</td><td>13418</td><td>12893</td><td>419506.0</td><td>1.020959E7</td><td>3.946770261553758</td></tr><tr><td>SAREE</td><td>13</td><td>123</td><td>5</td><td>147</td><td>142</td><td>3815.0</td><td>114694.0</td><td>3.2191647891721304</td></tr><tr><td>BLOUSE</td><td>64</td><td>784</td><td>32</td><td>831</td><td>799</td><td>16362.0</td><td>418389.0</td><td>3.7635336088933666</td></tr><tr><td>BOTTOM</td><td>25</td><td>356</td><td>14</td><td>384</td><td>370</td><td>4773.0</td><td>135453.0</td><td>3.4037910230627704</td></tr><tr><td>TOP</td><td>856</td><td>8923</td><td>535</td><td>9368</td><td>8833</td><td>299667.0</td><td>4904066.0</td><td>5.758692846077998</td></tr></tbody></table></div>"
      ]
     },
     "metadata": {
      "application/vnd.databricks.v1+output": {
       "addedWidgets": {},
       "aggData": [],
       "aggError": "",
       "aggOverflow": false,
       "aggSchema": [],
       "aggSeriesLimitReached": false,
       "aggType": "",
       "arguments": {},
       "columnCustomDisplayInfos": {},
       "data": [
        [
         "KURTA",
         4394,
         39742,
         2253,
         42792,
         40539,
         1026271.0,
         1.942587E7,
         5.017914750343253
        ],
        [
         "SET",
         4503,
         40855,
         2256,
         43033,
         40777,
         1930751.0,
         3.5731673E7,
         5.126465041124279
        ],
        [
         "ETHNIC DRESS",
         87,
         1004,
         37,
         1016,
         979,
         27967.0,
         732744.0,
         3.6764290249516574
        ],
        [
         "WESTERN DRESS",
         983,
         12924,
         525,
         13418,
         12893,
         419506.0,
         1.020959E7,
         3.946770261553758
        ],
        [
         "SAREE",
         13,
         123,
         5,
         147,
         142,
         3815.0,
         114694.0,
         3.2191647891721304
        ],
        [
         "BLOUSE",
         64,
         784,
         32,
         831,
         799,
         16362.0,
         418389.0,
         3.7635336088933666
        ],
        [
         "BOTTOM",
         25,
         356,
         14,
         384,
         370,
         4773.0,
         135453.0,
         3.4037910230627704
        ],
        [
         "TOP",
         856,
         8923,
         535,
         9368,
         8833,
         299667.0,
         4904066.0,
         5.758692846077998
        ]
       ],
       "datasetInfos": [],
       "dbfsResultPath": null,
       "isJsonSchema": true,
       "metadata": {},
       "overflow": false,
       "plotOptions": {
        "customPlotOptions": {},
        "displayType": "table",
        "pivotAggregation": null,
        "pivotColumns": null,
        "xColumns": null,
        "yColumns": null
       },
       "removedWidgets": [],
       "schema": [
        {
         "metadata": "{}",
         "name": "Category",
         "type": "\"string\""
        },
        {
         "metadata": "{}",
         "name": "Cancelled_Orders",
         "type": "\"long\""
        },
        {
         "metadata": "{}",
         "name": "Not_Cancelled_Orders",
         "type": "\"long\""
        },
        {
         "metadata": "{}",
         "name": "Cancelled_Quantity",
         "type": "\"long\""
        },
        {
         "metadata": "{}",
         "name": "Not_Cancelled_Quantity",
         "type": "\"long\""
        },
        {
         "metadata": "{}",
         "name": "Cancellation_Quantity_Impact",
         "type": "\"long\""
        },
        {
         "metadata": "{}",
         "name": "Cancelled_Amount",
         "type": "\"double\""
        },
        {
         "metadata": "{}",
         "name": "Not_Cancelled_Amount",
         "type": "\"double\""
        },
        {
         "metadata": "{}",
         "name": "Percent_Cancellation_Sale_Impact",
         "type": "\"double\""
        }
       ],
       "type": "table"
      }
     },
     "output_type": "display_data"
    }
   ],
   "source": [
    "cancellation_analysis.display()"
   ]
  },
  {
   "cell_type": "markdown",
   "metadata": {
    "application/vnd.databricks.v1+cell": {
     "cellMetadata": {
      "byteLimit": 2048000,
      "rowLimit": 10000
     },
     "inputWidgets": {},
     "nuid": "fcd982a6-a1af-4dd1-9812-c842c1397ac9",
     "showTitle": false,
     "title": ""
    }
   },
   "source": [
    "##Analysis-5:  Cancellation Impact Analysis"
   ]
  },
  {
   "cell_type": "code",
   "execution_count": 0,
   "metadata": {
    "application/vnd.databricks.v1+cell": {
     "cellMetadata": {
      "byteLimit": 2048000,
      "rowLimit": 10000
     },
     "inputWidgets": {},
     "nuid": "82d7f716-fb27-4f1d-a123-5178ca40647f",
     "showTitle": false,
     "title": ""
    }
   },
   "outputs": [
    {
     "output_type": "display_data",
     "data": {
      "text/html": [
       "<style scoped>\n",
       "  .ansiout {\n",
       "    display: block;\n",
       "    unicode-bidi: embed;\n",
       "    white-space: pre-wrap;\n",
       "    word-wrap: break-word;\n",
       "    word-break: break-all;\n",
       "    font-family: \"Menlo\", \"Monaco\", \"Consolas\", \"Ubuntu Mono\", \"Source Code Pro\", monospace;\n",
       "    font-size: 13px;\n",
       "    color: #555;\n",
       "    margin-left: 4px;\n",
       "    line-height: 19px;\n",
       "  }\n",
       "</style>\n",
       "<div class=\"ansiout\"></div>"
      ]
     },
     "metadata": {
      "application/vnd.databricks.v1+output": {
       "addedWidgets": {},
       "arguments": {},
       "data": "<div class=\"ansiout\"></div>",
       "datasetInfos": [],
       "metadata": {},
       "removedWidgets": [],
       "type": "html"
      }
     },
     "output_type": "display_data"
    }
   ],
   "source": [
    "size_sales_agg = retail_india_l0.groupBy('Category', 'Size').agg(F.sum('qty').alias('Size_Quantity_Ordered'),\\\n",
    "                                                                 F.sum('amount').alias('Size_Sales_Amount'))\n",
    "\n",
    "size_sales_amount = size_sales_agg.groupBy('Category').pivot('Size').agg(F.first('Size_Sales_Amount')).fillna(0)\n",
    "size_sales_quantity = size_sales_agg.groupBy('Category').pivot('Size').agg(F.first('Size_Quantity_Ordered')).fillna(0)\n",
    "\n",
    "column_order = ['Category','Free','XS','S','M','L','XL','XXL','3XL','4XL','5XL','6XL']\n",
    "\n",
    "size_sales_amount = size_sales_amount.select(*column_order)\n",
    "size_sales_quantity = size_sales_quantity.select(*column_order)"
   ]
  },
  {
   "cell_type": "code",
   "execution_count": 0,
   "metadata": {
    "application/vnd.databricks.v1+cell": {
     "cellMetadata": {
      "byteLimit": 2048000,
      "rowLimit": 10000
     },
     "inputWidgets": {},
     "nuid": "ce2bad76-8707-43d1-8625-c468af66e166",
     "showTitle": false,
     "title": ""
    }
   },
   "outputs": [
    {
     "output_type": "display_data",
     "data": {
      "text/html": [
       "<style scoped>\n",
       "  .table-result-container {\n",
       "    max-height: 300px;\n",
       "    overflow: auto;\n",
       "  }\n",
       "  table, th, td {\n",
       "    border: 1px solid black;\n",
       "    border-collapse: collapse;\n",
       "  }\n",
       "  th, td {\n",
       "    padding: 5px;\n",
       "  }\n",
       "  th {\n",
       "    text-align: left;\n",
       "  }\n",
       "</style><div class='table-result-container'><table class='table-result'><thead style='background-color: white'><tr><th>Category</th><th>Free</th><th>XS</th><th>S</th><th>M</th><th>L</th><th>XL</th><th>XXL</th><th>3XL</th><th>4XL</th><th>5XL</th><th>6XL</th></tr></thead><tbody><tr><td>KURTA</td><td>0.0</td><td>1186362.0</td><td>2253248.0</td><td>3419517.0</td><td>3579090.0</td><td>3473041.0</td><td>3103599.0</td><td>2347787.0</td><td>268861.0</td><td>347120.0</td><td>473516.0</td></tr><tr><td>SET</td><td>0.0</td><td>4109002.0</td><td>5621797.0</td><td>6976297.0</td><td>6104693.0</td><td>5680664.0</td><td>4606076.0</td><td>4350547.0</td><td>56457.0</td><td>67689.0</td><td>89202.0</td></tr><tr><td>ETHNIC DRESS</td><td>0.0</td><td>52878.0</td><td>120479.0</td><td>128440.0</td><td>116475.0</td><td>130405.0</td><td>95013.0</td><td>117021.0</td><td>0.0</td><td>0.0</td><td>0.0</td></tr><tr><td>WESTERN DRESS</td><td>0.0</td><td>951805.0</td><td>1496487.0</td><td>1771200.0</td><td>1920586.0</td><td>1638053.0</td><td>1500328.0</td><td>1350637.0</td><td>0.0</td><td>0.0</td><td>0.0</td></tr><tr><td>SAREE</td><td>118509.0</td><td>0.0</td><td>0.0</td><td>0.0</td><td>0.0</td><td>0.0</td><td>0.0</td><td>0.0</td><td>0.0</td><td>0.0</td><td>0.0</td></tr><tr><td>BLOUSE</td><td>75644.0</td><td>9427.0</td><td>69564.0</td><td>75436.0</td><td>68799.0</td><td>69066.0</td><td>66815.0</td><td>0.0</td><td>0.0</td><td>0.0</td><td>0.0</td></tr><tr><td>DUPATTA</td><td>915.0</td><td>0.0</td><td>0.0</td><td>0.0</td><td>0.0</td><td>0.0</td><td>0.0</td><td>0.0</td><td>0.0</td><td>0.0</td><td>0.0</td></tr><tr><td>BOTTOM</td><td>0.0</td><td>8806.0</td><td>21534.0</td><td>17692.0</td><td>23295.0</td><td>23032.0</td><td>22922.0</td><td>22945.0</td><td>0.0</td><td>0.0</td><td>0.0</td></tr><tr><td>TOP</td><td>0.0</td><td>440743.0</td><td>603786.0</td><td>913963.0</td><td>871806.0</td><td>903552.0</td><td>863365.0</td><td>606518.0</td><td>0.0</td><td>0.0</td><td>0.0</td></tr></tbody></table></div>"
      ]
     },
     "metadata": {
      "application/vnd.databricks.v1+output": {
       "addedWidgets": {},
       "aggData": [],
       "aggError": "",
       "aggOverflow": false,
       "aggSchema": [],
       "aggSeriesLimitReached": false,
       "aggType": "",
       "arguments": {},
       "columnCustomDisplayInfos": {},
       "data": [
        [
         "KURTA",
         0.0,
         1186362.0,
         2253248.0,
         3419517.0,
         3579090.0,
         3473041.0,
         3103599.0,
         2347787.0,
         268861.0,
         347120.0,
         473516.0
        ],
        [
         "SET",
         0.0,
         4109002.0,
         5621797.0,
         6976297.0,
         6104693.0,
         5680664.0,
         4606076.0,
         4350547.0,
         56457.0,
         67689.0,
         89202.0
        ],
        [
         "ETHNIC DRESS",
         0.0,
         52878.0,
         120479.0,
         128440.0,
         116475.0,
         130405.0,
         95013.0,
         117021.0,
         0.0,
         0.0,
         0.0
        ],
        [
         "WESTERN DRESS",
         0.0,
         951805.0,
         1496487.0,
         1771200.0,
         1920586.0,
         1638053.0,
         1500328.0,
         1350637.0,
         0.0,
         0.0,
         0.0
        ],
        [
         "SAREE",
         118509.0,
         0.0,
         0.0,
         0.0,
         0.0,
         0.0,
         0.0,
         0.0,
         0.0,
         0.0,
         0.0
        ],
        [
         "BLOUSE",
         75644.0,
         9427.0,
         69564.0,
         75436.0,
         68799.0,
         69066.0,
         66815.0,
         0.0,
         0.0,
         0.0,
         0.0
        ],
        [
         "DUPATTA",
         915.0,
         0.0,
         0.0,
         0.0,
         0.0,
         0.0,
         0.0,
         0.0,
         0.0,
         0.0,
         0.0
        ],
        [
         "BOTTOM",
         0.0,
         8806.0,
         21534.0,
         17692.0,
         23295.0,
         23032.0,
         22922.0,
         22945.0,
         0.0,
         0.0,
         0.0
        ],
        [
         "TOP",
         0.0,
         440743.0,
         603786.0,
         913963.0,
         871806.0,
         903552.0,
         863365.0,
         606518.0,
         0.0,
         0.0,
         0.0
        ]
       ],
       "datasetInfos": [],
       "dbfsResultPath": null,
       "isJsonSchema": true,
       "metadata": {},
       "overflow": false,
       "plotOptions": {
        "customPlotOptions": {},
        "displayType": "table",
        "pivotAggregation": null,
        "pivotColumns": null,
        "xColumns": null,
        "yColumns": null
       },
       "removedWidgets": [],
       "schema": [
        {
         "metadata": "{}",
         "name": "Category",
         "type": "\"string\""
        },
        {
         "metadata": "{}",
         "name": "Free",
         "type": "\"double\""
        },
        {
         "metadata": "{}",
         "name": "XS",
         "type": "\"double\""
        },
        {
         "metadata": "{}",
         "name": "S",
         "type": "\"double\""
        },
        {
         "metadata": "{}",
         "name": "M",
         "type": "\"double\""
        },
        {
         "metadata": "{}",
         "name": "L",
         "type": "\"double\""
        },
        {
         "metadata": "{}",
         "name": "XL",
         "type": "\"double\""
        },
        {
         "metadata": "{}",
         "name": "XXL",
         "type": "\"double\""
        },
        {
         "metadata": "{}",
         "name": "3XL",
         "type": "\"double\""
        },
        {
         "metadata": "{}",
         "name": "4XL",
         "type": "\"double\""
        },
        {
         "metadata": "{}",
         "name": "5XL",
         "type": "\"double\""
        },
        {
         "metadata": "{}",
         "name": "6XL",
         "type": "\"double\""
        }
       ],
       "type": "table"
      }
     },
     "output_type": "display_data"
    }
   ],
   "source": [
    "size_sales_amount.display()"
   ]
  },
  {
   "cell_type": "code",
   "execution_count": 0,
   "metadata": {
    "application/vnd.databricks.v1+cell": {
     "cellMetadata": {
      "byteLimit": 2048000,
      "rowLimit": 10000
     },
     "inputWidgets": {},
     "nuid": "2f6a7411-a787-4f2a-bcda-787cf0fb0099",
     "showTitle": false,
     "title": ""
    }
   },
   "outputs": [
    {
     "output_type": "display_data",
     "data": {
      "text/html": [
       "<style scoped>\n",
       "  .table-result-container {\n",
       "    max-height: 300px;\n",
       "    overflow: auto;\n",
       "  }\n",
       "  table, th, td {\n",
       "    border: 1px solid black;\n",
       "    border-collapse: collapse;\n",
       "  }\n",
       "  th, td {\n",
       "    padding: 5px;\n",
       "  }\n",
       "  th {\n",
       "    text-align: left;\n",
       "  }\n",
       "</style><div class='table-result-container'><table class='table-result'><thead style='background-color: white'><tr><th>Category</th><th>Free</th><th>XS</th><th>S</th><th>M</th><th>L</th><th>XL</th><th>XXL</th><th>3XL</th><th>4XL</th><th>5XL</th><th>6XL</th></tr></thead><tbody><tr><td>KURTA</td><td>0</td><td>2783</td><td>5157</td><td>7713</td><td>8043</td><td>7838</td><td>6952</td><td>5135</td><td>352</td><td>456</td><td>616</td></tr><tr><td>SET</td><td>0</td><td>4882</td><td>6708</td><td>8357</td><td>7399</td><td>6873</td><td>5608</td><td>5287</td><td>46</td><td>57</td><td>72</td></tr><tr><td>ETHNIC DRESS</td><td>0</td><td>77</td><td>163</td><td>167</td><td>170</td><td>173</td><td>143</td><td>160</td><td>0</td><td>0</td><td>0</td></tr><tr><td>WESTERN DRESS</td><td>0</td><td>1280</td><td>1962</td><td>2326</td><td>2546</td><td>2125</td><td>1944</td><td>1760</td><td>0</td><td>0</td><td>0</td></tr><tr><td>SAREE</td><td>152</td><td>0</td><td>0</td><td>0</td><td>0</td><td>0</td><td>0</td><td>0</td><td>0</td><td>0</td><td>0</td></tr><tr><td>BLOUSE</td><td>211</td><td>25</td><td>128</td><td>138</td><td>128</td><td>116</td><td>117</td><td>0</td><td>0</td><td>0</td><td>0</td></tr><tr><td>DUPATTA</td><td>3</td><td>0</td><td>0</td><td>0</td><td>0</td><td>0</td><td>0</td><td>0</td><td>0</td><td>0</td><td>0</td></tr><tr><td>BOTTOM</td><td>0</td><td>26</td><td>67</td><td>50</td><td>67</td><td>64</td><td>64</td><td>60</td><td>0</td><td>0</td><td>0</td></tr><tr><td>TOP</td><td>0</td><td>870</td><td>1146</td><td>1696</td><td>1647</td><td>1734</td><td>1688</td><td>1122</td><td>0</td><td>0</td><td>0</td></tr></tbody></table></div>"
      ]
     },
     "metadata": {
      "application/vnd.databricks.v1+output": {
       "addedWidgets": {},
       "aggData": [],
       "aggError": "",
       "aggOverflow": false,
       "aggSchema": [],
       "aggSeriesLimitReached": false,
       "aggType": "",
       "arguments": {},
       "columnCustomDisplayInfos": {},
       "data": [
        [
         "KURTA",
         0,
         2783,
         5157,
         7713,
         8043,
         7838,
         6952,
         5135,
         352,
         456,
         616
        ],
        [
         "SET",
         0,
         4882,
         6708,
         8357,
         7399,
         6873,
         5608,
         5287,
         46,
         57,
         72
        ],
        [
         "ETHNIC DRESS",
         0,
         77,
         163,
         167,
         170,
         173,
         143,
         160,
         0,
         0,
         0
        ],
        [
         "WESTERN DRESS",
         0,
         1280,
         1962,
         2326,
         2546,
         2125,
         1944,
         1760,
         0,
         0,
         0
        ],
        [
         "SAREE",
         152,
         0,
         0,
         0,
         0,
         0,
         0,
         0,
         0,
         0,
         0
        ],
        [
         "BLOUSE",
         211,
         25,
         128,
         138,
         128,
         116,
         117,
         0,
         0,
         0,
         0
        ],
        [
         "DUPATTA",
         3,
         0,
         0,
         0,
         0,
         0,
         0,
         0,
         0,
         0,
         0
        ],
        [
         "BOTTOM",
         0,
         26,
         67,
         50,
         67,
         64,
         64,
         60,
         0,
         0,
         0
        ],
        [
         "TOP",
         0,
         870,
         1146,
         1696,
         1647,
         1734,
         1688,
         1122,
         0,
         0,
         0
        ]
       ],
       "datasetInfos": [],
       "dbfsResultPath": null,
       "isJsonSchema": true,
       "metadata": {},
       "overflow": false,
       "plotOptions": {
        "customPlotOptions": {},
        "displayType": "table",
        "pivotAggregation": null,
        "pivotColumns": null,
        "xColumns": null,
        "yColumns": null
       },
       "removedWidgets": [],
       "schema": [
        {
         "metadata": "{}",
         "name": "Category",
         "type": "\"string\""
        },
        {
         "metadata": "{}",
         "name": "Free",
         "type": "\"long\""
        },
        {
         "metadata": "{}",
         "name": "XS",
         "type": "\"long\""
        },
        {
         "metadata": "{}",
         "name": "S",
         "type": "\"long\""
        },
        {
         "metadata": "{}",
         "name": "M",
         "type": "\"long\""
        },
        {
         "metadata": "{}",
         "name": "L",
         "type": "\"long\""
        },
        {
         "metadata": "{}",
         "name": "XL",
         "type": "\"long\""
        },
        {
         "metadata": "{}",
         "name": "XXL",
         "type": "\"long\""
        },
        {
         "metadata": "{}",
         "name": "3XL",
         "type": "\"long\""
        },
        {
         "metadata": "{}",
         "name": "4XL",
         "type": "\"long\""
        },
        {
         "metadata": "{}",
         "name": "5XL",
         "type": "\"long\""
        },
        {
         "metadata": "{}",
         "name": "6XL",
         "type": "\"long\""
        }
       ],
       "type": "table"
      }
     },
     "output_type": "display_data"
    }
   ],
   "source": [
    "size_sales_quantity.display()"
   ]
  },
  {
   "cell_type": "markdown",
   "metadata": {
    "application/vnd.databricks.v1+cell": {
     "cellMetadata": {
      "byteLimit": 2048000,
      "rowLimit": 10000
     },
     "inputWidgets": {},
     "nuid": "f513acb4-0ad2-4e53-9bcf-83b6efd2ac9c",
     "showTitle": false,
     "title": ""
    }
   },
   "source": [
    "##Analysis-6: International Order Only Analysis"
   ]
  },
  {
   "cell_type": "code",
   "execution_count": 0,
   "metadata": {
    "application/vnd.databricks.v1+cell": {
     "cellMetadata": {
      "byteLimit": 2048000,
      "rowLimit": 10000
     },
     "inputWidgets": {},
     "nuid": "38c47743-210d-4fbd-a1bd-8e96a91b2ae1",
     "showTitle": false,
     "title": ""
    }
   },
   "outputs": [
    {
     "output_type": "display_data",
     "data": {
      "text/html": [
       "<style scoped>\n",
       "  .ansiout {\n",
       "    display: block;\n",
       "    unicode-bidi: embed;\n",
       "    white-space: pre-wrap;\n",
       "    word-wrap: break-word;\n",
       "    word-break: break-all;\n",
       "    font-family: \"Menlo\", \"Monaco\", \"Consolas\", \"Ubuntu Mono\", \"Source Code Pro\", monospace;\n",
       "    font-size: 13px;\n",
       "    color: #555;\n",
       "    margin-left: 4px;\n",
       "    line-height: 19px;\n",
       "  }\n",
       "</style>\n",
       "<div class=\"ansiout\"></div>"
      ]
     },
     "metadata": {
      "application/vnd.databricks.v1+output": {
       "addedWidgets": {},
       "arguments": {},
       "data": "<div class=\"ansiout\"></div>",
       "datasetInfos": [],
       "metadata": {},
       "removedWidgets": [],
       "type": "html"
      }
     },
     "output_type": "display_data"
    }
   ],
   "source": [
    "intl_order_only_order_ids = retail_intl_l0.selectExpr('intl_order_id as order_id').join(retail_india_l0,['order_id'],\"leftanti\")\n",
    "retail_intl_l0 = retail_intl_l0.select('intl_order_id','category','intl_amount')\\\n",
    "                                .join(intl_order_only_order_ids.selectExpr('order_id as intl_order_id'),['intl_order_id'],\"inner\")\n",
    "\n",
    "intl_only_analysis = retail_intl_l0.groupBy('category').agg(F.countDistinct('intl_order_id').alias('Number_of_Orders'),\\\n",
    "                                                            F.sum('intl_amount').alias('Sales_Amount'))"
   ]
  },
  {
   "cell_type": "code",
   "execution_count": 0,
   "metadata": {
    "application/vnd.databricks.v1+cell": {
     "cellMetadata": {
      "byteLimit": 2048000,
      "rowLimit": 10000
     },
     "inputWidgets": {},
     "nuid": "85c15db0-76ca-49d0-8793-206c37bedba6",
     "showTitle": false,
     "title": ""
    }
   },
   "outputs": [
    {
     "output_type": "display_data",
     "data": {
      "text/html": [
       "<style scoped>\n",
       "  .table-result-container {\n",
       "    max-height: 300px;\n",
       "    overflow: auto;\n",
       "  }\n",
       "  table, th, td {\n",
       "    border: 1px solid black;\n",
       "    border-collapse: collapse;\n",
       "  }\n",
       "  th, td {\n",
       "    padding: 5px;\n",
       "  }\n",
       "  th {\n",
       "    text-align: left;\n",
       "  }\n",
       "</style><div class='table-result-container'><table class='table-result'><thead style='background-color: white'><tr><th>category</th><th>Number_of_Orders</th><th>Sales_Amount</th></tr></thead><tbody><tr><td>KURTA</td><td>2424</td><td>1042282.979999997</td></tr><tr><td>SET</td><td>2487</td><td>1855257.1200000062</td></tr><tr><td>ETHNIC DRESS</td><td>57</td><td>42388.540000000015</td></tr><tr><td>WESTERN DRESS</td><td>1087</td><td>677005.1599999988</td></tr><tr><td>SAREE</td><td>8</td><td>5424.76</td></tr><tr><td>BLOUSE</td><td>49</td><td>25512.410000000007</td></tr><tr><td>BOTTOM</td><td>29</td><td>19356.34</td></tr><tr><td>TOP</td><td>375</td><td>168213.5999999999</td></tr></tbody></table></div>"
      ]
     },
     "metadata": {
      "application/vnd.databricks.v1+output": {
       "addedWidgets": {},
       "aggData": [],
       "aggError": "",
       "aggOverflow": false,
       "aggSchema": [],
       "aggSeriesLimitReached": false,
       "aggType": "",
       "arguments": {},
       "columnCustomDisplayInfos": {},
       "data": [
        [
         "KURTA",
         2424,
         1042282.979999997
        ],
        [
         "SET",
         2487,
         1855257.1200000062
        ],
        [
         "ETHNIC DRESS",
         57,
         42388.540000000015
        ],
        [
         "WESTERN DRESS",
         1087,
         677005.1599999988
        ],
        [
         "SAREE",
         8,
         5424.76
        ],
        [
         "BLOUSE",
         49,
         25512.410000000007
        ],
        [
         "BOTTOM",
         29,
         19356.34
        ],
        [
         "TOP",
         375,
         168213.5999999999
        ]
       ],
       "datasetInfos": [],
       "dbfsResultPath": null,
       "isJsonSchema": true,
       "metadata": {},
       "overflow": false,
       "plotOptions": {
        "customPlotOptions": {},
        "displayType": "table",
        "pivotAggregation": null,
        "pivotColumns": null,
        "xColumns": null,
        "yColumns": null
       },
       "removedWidgets": [],
       "schema": [
        {
         "metadata": "{}",
         "name": "category",
         "type": "\"string\""
        },
        {
         "metadata": "{}",
         "name": "Number_of_Orders",
         "type": "\"long\""
        },
        {
         "metadata": "{}",
         "name": "Sales_Amount",
         "type": "\"double\""
        }
       ],
       "type": "table"
      }
     },
     "output_type": "display_data"
    }
   ],
   "source": [
    "intl_only_analysis.display()"
   ]
  },
  {
   "cell_type": "markdown",
   "metadata": {
    "application/vnd.databricks.v1+cell": {
     "cellMetadata": {
      "byteLimit": 2048000,
      "rowLimit": 10000
     },
     "inputWidgets": {},
     "nuid": "d0f30d27-903c-4d11-94ca-5fe011d9cc63",
     "showTitle": false,
     "title": ""
    }
   },
   "source": [
    "## Writing Output tables to Data Lake Gen-2 in Parquet Format "
   ]
  },
  {
   "cell_type": "code",
   "execution_count": 0,
   "metadata": {
    "application/vnd.databricks.v1+cell": {
     "cellMetadata": {
      "byteLimit": 2048000,
      "rowLimit": 10000
     },
     "inputWidgets": {},
     "nuid": "234d9091-7ac4-4ad7-87fc-45c1310faae2",
     "showTitle": false,
     "title": ""
    }
   },
   "outputs": [
    {
     "output_type": "display_data",
     "data": {
      "text/html": [
       "<style scoped>\n",
       "  .ansiout {\n",
       "    display: block;\n",
       "    unicode-bidi: embed;\n",
       "    white-space: pre-wrap;\n",
       "    word-wrap: break-word;\n",
       "    word-break: break-all;\n",
       "    font-family: \"Menlo\", \"Monaco\", \"Consolas\", \"Ubuntu Mono\", \"Source Code Pro\", monospace;\n",
       "    font-size: 13px;\n",
       "    color: #555;\n",
       "    margin-left: 4px;\n",
       "    line-height: 19px;\n",
       "  }\n",
       "</style>\n",
       "<div class=\"ansiout\"></div>"
      ]
     },
     "metadata": {
      "application/vnd.databricks.v1+output": {
       "addedWidgets": {},
       "arguments": {},
       "data": "<div class=\"ansiout\"></div>",
       "datasetInfos": [],
       "metadata": {},
       "removedWidgets": [],
       "type": "html"
      }
     },
     "output_type": "display_data"
    }
   ],
   "source": [
    "state_wise_order_analysis.write.mode(\"overwrite\").parquet(path=state_analysis_path)\n",
    "category_wise_order_analysis.write.mode(\"overwrite\").parquet(path=category_analysis_path)\n",
    "promotion_analysis.write.mode(\"overwrite\").parquet(path=promotion_analysis_path)\n",
    "cancellation_analysis.write.mode(\"overwrite\").parquet(path=cancellation_analysis_path)\n",
    "size_sales_amount.write.mode(\"overwrite\").parquet(path=size_sales_amount_path)\n",
    "size_sales_quantity.write.mode(\"overwrite\").parquet(path=size_sales_quantity_path)\n",
    "intl_only_analysis.write.mode(\"overwrite\").parquet(path=intl_only_path)"
   ]
  }
 ],
 "metadata": {
  "application/vnd.databricks.v1+notebook": {
   "dashboards": [],
   "language": "python",
   "notebookMetadata": {
    "pythonIndentUnit": 4
   },
   "notebookName": "AMAZON_SALES_ANALYSIS_L1",
   "widgets": {}
  }
 },
 "nbformat": 4,
 "nbformat_minor": 0
}
